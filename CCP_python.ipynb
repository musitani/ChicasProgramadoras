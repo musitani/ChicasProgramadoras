{
  "nbformat": 4,
  "nbformat_minor": 0,
  "metadata": {
    "colab": {
      "provenance": [],
      "include_colab_link": true
    },
    "kernelspec": {
      "name": "python3",
      "display_name": "Python 3"
    },
    "language_info": {
      "name": "python"
    }
  },
  "cells": [
    {
      "cell_type": "markdown",
      "metadata": {
        "id": "view-in-github",
        "colab_type": "text"
      },
      "source": [
        "<a href=\"https://colab.research.google.com/github/musitani/ChicasProgramadoras/blob/main/CCP_python.ipynb\" target=\"_parent\"><img src=\"https://colab.research.google.com/assets/colab-badge.svg\" alt=\"Open In Colab\"/></a>"
      ]
    },
    {
      "cell_type": "markdown",
      "source": [
        "# 🐍 **Mi Primer Código de Python con Google Colab** 🎉\n",
        "\n",
        "¡Bienvenida a tus primeras clases de Python!  \n",
        "En este cuaderno (notebook) vamos a aprender paso a paso a programar en este nuevo lenguaje.  \n",
        "¡Vamos!"
      ],
      "metadata": {
        "id": "TTeFz7YxmQuM"
      }
    },
    {
      "cell_type": "markdown",
      "source": [
        "# **Clase 1: ¡Hola Python!** 👋\n",
        "\n",
        "### ¿Qué es Python?\n",
        "Python es un lenguaje que entiende instrucciones, como Scratch.  \n",
        "Pero en vez de usar bloques de colores, usamos **texto** para darle órdenes a la compu.\n",
        "\n",
        "Con Python podés:\n",
        "- Crear juegos 🎮  \n",
        "- Hacer animaciones 🎨  \n",
        "- Resolver problemas matemáticos ➗  \n",
        "- ¡Hasta programar inteligencia artificial! 🤖  \n",
        "\n"
      ],
      "metadata": {
        "id": "0jWDoI7XmwHV"
      }
    },
    {
      "cell_type": "markdown",
      "source": [
        "\n",
        "### ¿Qué es un programa?\n",
        "Un programa es una lista de instrucciones que la computadora sigue paso a paso.  \n",
        "Por ejemplo: decir “Hola”, sumar dos números, preguntar tu nombre… ¡todo eso es programar!"
      ],
      "metadata": {
        "id": "d57-2Jmjoutk"
      }
    },
    {
      "cell_type": "markdown",
      "source": [
        "### 📦 ¿Qué son las variables?\n",
        "\n",
        "Una **variable** es como una cajita donde guardamos información: un número, una palabra, una cuenta... lo que quieras.\n",
        "\n",
        "Por ejemplo:"
      ],
      "metadata": {
        "id": "YutdBfHroyf2"
      }
    },
    {
      "cell_type": "code",
      "source": [
        "nombre = \"Luna\"\n",
        "edad = 13"
      ],
      "metadata": {
        "id": "C22gDZpno0aR"
      },
      "execution_count": null,
      "outputs": []
    },
    {
      "cell_type": "markdown",
      "source": [
        "Acá creamos dos variables (cajitas), que llamamos nombre y edad:\n",
        "\n",
        "- **nombre** guarda el texto \"Luna\"\n",
        "\n",
        "- **edad** guarda el número 13"
      ],
      "metadata": {
        "id": "nAo3_SE3pE1Y"
      }
    },
    {
      "cell_type": "markdown",
      "source": [
        "⚠️ Explicación:\n",
        "\n",
        " **El signo = no significa “igual” como en matemática.**\n",
        "\n",
        "✅ En Python, = significa: \"guardá este valor en esta variable\".\n",
        "\n",
        "Por ejemplo:"
      ],
      "metadata": {
        "id": "Z5wKBMuTpkRv"
      }
    },
    {
      "cell_type": "code",
      "source": [
        "color = \"rosa\""
      ],
      "metadata": {
        "id": "hfyFbTrTp3o3"
      },
      "execution_count": null,
      "outputs": []
    },
    {
      "cell_type": "markdown",
      "source": [
        "Esto significa: “Guardá el texto ‘rosa’ en la variable llamada color”."
      ],
      "metadata": {
        "id": "byO9WCM1p-eo"
      }
    },
    {
      "cell_type": "markdown",
      "source": [
        "🎨 ¿Qué podés guardar en una variable?\\\n",
        "\n",
        "- números (por ejemplo, 8 o 3.14)\n",
        "\n",
        "- texto (como \"Hola\" o \"Python\")\n",
        "\n",
        "- valores verdadero/falso (llamados booleanos: True o False)"
      ],
      "metadata": {
        "id": "hEqhSCWJqESt"
      }
    },
    {
      "cell_type": "markdown",
      "source": [
        "## 🎈 ¡Empecemos a programar con Python!\n",
        "\n",
        "Una de las funciones más usadas en Python es **`print()`**.\n",
        "\n",
        "#### ¿Para qué sirve?\n",
        "\n",
        "**`print()`** se usa para mostrar algo en pantalla.  \n",
        "Lo que está entre paréntesis es lo que se va a imprimir.\n",
        "\n",
        "Por ejemplo:"
      ],
      "metadata": {
        "id": "9OyAc03lq6kk"
      }
    },
    {
      "cell_type": "code",
      "source": [
        "print(\"Hola Mundo!\")"
      ],
      "metadata": {
        "colab": {
          "base_uri": "https://localhost:8080/"
        },
        "id": "W4eismbEmvbS",
        "outputId": "46226e4e-3c6a-4c6b-b335-0b4ee0fdbbba"
      },
      "execution_count": null,
      "outputs": [
        {
          "output_type": "stream",
          "name": "stdout",
          "text": [
            "Hola Mundo!\n"
          ]
        }
      ]
    },
    {
      "cell_type": "markdown",
      "source": [
        "🌟 Al ejecutar la celda, se va a imprimir \"Hola Mundo!\" en nuestra pantalla.\n",
        "\n",
        "Podemos imprimir texto, números, cuentas o incluso el contenido de variables:"
      ],
      "metadata": {
        "id": "EQY7p61snnA4"
      }
    },
    {
      "cell_type": "code",
      "source": [],
      "metadata": {
        "id": "TbkLyhKarkG1"
      },
      "execution_count": null,
      "outputs": []
    },
    {
      "cell_type": "code",
      "source": [
        "print(\"Tengo\", 15, \"años\")   # Imprime: Tengo 15 años\n",
        "\n",
        "edad = 14\n",
        "print(\"Edad:\", edad)         # Imprime el numero que le asignamos a la variable edad"
      ],
      "metadata": {
        "colab": {
          "base_uri": "https://localhost:8080/"
        },
        "id": "kjkYPBYCmnsn",
        "outputId": "bf1a9dcf-a120-4983-8e43-b1f303b3c217"
      },
      "execution_count": null,
      "outputs": [
        {
          "output_type": "stream",
          "name": "stdout",
          "text": [
            "Tengo 15 años\n",
            "Edad: 14\n"
          ]
        }
      ]
    },
    {
      "cell_type": "markdown",
      "source": [
        "# 💡 Desafío: ¡Tu primer programa personalizado! 🎉\n",
        "\n",
        "👉 Queremos que escribas un programa que haga lo siguiente:\n",
        "\n",
        "1. Guarde en una variable tu nombre.\n",
        "\n",
        "2. Guarde en otra variable tu edad.\n",
        "\n",
        "3. Use print() para mostrar un mensaje como este: \"Hola, soy {NOMBRE} y tengo {EDAD} años."
      ],
      "metadata": {
        "id": "Tm1jghyQrSFP"
      }
    },
    {
      "cell_type": "markdown",
      "source": [],
      "metadata": {
        "id": "pO9AjB-0rqoq"
      }
    },
    {
      "cell_type": "code",
      "source": [
        "# Escribi tu programa en esta celda\n",
        "\n",
        "\n"
      ],
      "metadata": {
        "id": "PB0e5mcwmRqs"
      },
      "execution_count": null,
      "outputs": []
    },
    {
      "cell_type": "markdown",
      "source": [
        "## 🚀 Bonus (para las curiosas):\n",
        "Si te animás, probá cambiar el valor de las variables por los de una amiga o familiar y volvé a ejecutar el código. Qué cambió?"
      ],
      "metadata": {
        "id": "oe0qf21wr3VV"
      }
    },
    {
      "cell_type": "markdown",
      "source": [
        "## 👋 Ahora vamos a aprender cómo hacer que el programa te pregunte cosas\n",
        "\n",
        "### 📥 La función `input()`\n",
        "\n",
        "`input()` es una función que le pide al usuario que escriba algo desde el teclado, y guarda eso en una variable.\n",
        "\n",
        "Por ejemplo:\n"
      ],
      "metadata": {
        "id": "tKyZCpSFtOkJ"
      }
    },
    {
      "cell_type": "code",
      "source": [
        "nombre = input(\"¿Cómo te llamás? \")\n",
        "print(\"Hola\", nombre, \"¡qué bueno verte!\")"
      ],
      "metadata": {
        "colab": {
          "base_uri": "https://localhost:8080/"
        },
        "id": "NsU2_gBCtXeJ",
        "outputId": "bba13f08-cd77-4370-eaf0-1cb4f59b376f"
      },
      "execution_count": null,
      "outputs": [
        {
          "output_type": "stream",
          "name": "stdout",
          "text": [
            "¿Cómo te llamás? Delfii\n",
            "Hola Delfii ¡qué bueno verte!\n"
          ]
        }
      ]
    },
    {
      "cell_type": "markdown",
      "source": [
        "Cuando ejecutes este código, te va a aparecer el mensaje ¿Cómo te llamás?\n",
        "Podés escribir tu nombre y el programa lo va a guardar en la variable nombre. Después, se va a imprimir lo que este guardado en esa variable (cajita) que llamamos nombre, es decir, lo que escribiste."
      ],
      "metadata": {
        "id": "0lKLu_NGtw4O"
      }
    },
    {
      "cell_type": "markdown",
      "source": [
        "Lo que escribimos entre paréntesis dentro de input(...) es el mensaje que se muestra en pantalla para indicarle al usuario qué debe escribir.\n",
        "Justo al lado de ese mensaje, la persona podrá ingresar su respuesta desde el teclado.\n",
        "\n",
        "Por lo general, dentro de los paréntesis escribimos una pregunta o una instrucción que ayude al usuario a saber qué información debe completar."
      ],
      "metadata": {
        "id": "GJoT-auptdvF"
      }
    },
    {
      "cell_type": "markdown",
      "source": [
        "## 🧩 **Tipos de datos en Python**\n",
        "\n",
        "En Python, los datos que guardamos en variables pueden ser de distintos tipos. Algunos muy importantes son:\n",
        "\n",
        "| Tipo       | ¿Qué guarda?                    | Ejemplo                      |\n",
        "|------------|--------------------------------|-----------------------------|\n",
        "| `int`      | Números enteros                | `5`, `-3`, `100`            |\n",
        "| `float`    | Números con decimales          | `3.14`, `0.5`, `-2.7`       |\n",
        "| `str`      | Texto (cadenas de caracteres)  | `\"hola\"`, `\"Python\"`, `\"123\"` |\n",
        "| `bool`     | Valores verdadero o falso      | `True`, `False`              |\n",
        "\n",
        "---\n",
        "\n",
        "### Ejemplos en código:\n",
        "\n",
        "\n"
      ],
      "metadata": {
        "id": "87TC1RsiuTGW"
      }
    },
    {
      "cell_type": "code",
      "source": [
        "edad = 15          # int\n",
        "peso = 52.3        # float\n",
        "nombre = \"Ana\"     # str (texto)\n",
        "es_estudiante = True  # bool (verdadero/falso)"
      ],
      "metadata": {
        "id": "CQPUNhDZuwf-"
      },
      "execution_count": null,
      "outputs": []
    },
    {
      "cell_type": "markdown",
      "source": [
        "## 📥 Podés usar type() para saber qué tipo tiene una variable:"
      ],
      "metadata": {
        "id": "rRYyd7t1ulvB"
      }
    },
    {
      "cell_type": "code",
      "source": [
        "print(\"El tipo de la variable 'edad' es:\", type(edad))        # <class 'int'>\n",
        "print(\"El tipo de la variable 'peso' es:\", type(peso))        # <class 'float'>\n",
        "print(\"El tipo de la variable 'nombre' es:\", type(nombre))      # <class 'str'>\n",
        "print(\"El tipo de la variable 'es_estudiante' es:\", type(es_estudiante)) # <class 'bool'>\n"
      ],
      "metadata": {
        "colab": {
          "base_uri": "https://localhost:8080/"
        },
        "id": "ekYa0w6cuteW",
        "outputId": "0629f237-41ae-4a99-923b-17e80ad1ba74"
      },
      "execution_count": null,
      "outputs": [
        {
          "output_type": "stream",
          "name": "stdout",
          "text": [
            "El tipo de la variable 'edad' es: <class 'int'>\n",
            "El tipo de la variable 'peso' es: <class 'float'>\n",
            "El tipo de la variable 'nombre' es: <class 'str'>\n",
            "El tipo de la variable 'es_estudiante' es: <class 'bool'>\n"
          ]
        }
      ]
    },
    {
      "cell_type": "markdown",
      "source": [
        "## ⚠️ ¡Ojo con input()!\n",
        "\n",
        "La función **input()** siempre guarda lo que escribís como texto (str), aunque escribas números.\n",
        "\n",
        "Ejemplo:"
      ],
      "metadata": {
        "id": "JN54HwI9vGVJ"
      }
    },
    {
      "cell_type": "code",
      "source": [
        "edad = input(\"¿Cuántos años tenés? \")\n",
        "print(\"Tu edad es:\", edad)\n",
        "print(\"El tipo de dato es:\", type(edad))\n"
      ],
      "metadata": {
        "colab": {
          "base_uri": "https://localhost:8080/"
        },
        "id": "zY-_ysEevHdD",
        "outputId": "4a1dd414-f4d9-4603-8627-677a4fa747d2"
      },
      "execution_count": null,
      "outputs": [
        {
          "output_type": "stream",
          "name": "stdout",
          "text": [
            "¿Cuántos años tenés? 12\n",
            "Tu edad es: 12\n",
            "El tipo de dato es: <class 'str'>\n"
          ]
        }
      ]
    },
    {
      "cell_type": "markdown",
      "source": [
        "¿Qué pasa si intentás hacer cuentas con ese valor?"
      ],
      "metadata": {
        "id": "TAFW7Tk7vWQJ"
      }
    },
    {
      "cell_type": "code",
      "source": [
        "edad = input(\"¿Cuántos años tenés? \")\n",
        "print(\"Sumando 5 años:\", edad + 5)\n"
      ],
      "metadata": {
        "colab": {
          "base_uri": "https://localhost:8080/",
          "height": 176
        },
        "id": "vFg9xHA_vYHm",
        "outputId": "768017aa-0bf6-4f46-8d44-ffddd4e02b26"
      },
      "execution_count": null,
      "outputs": [
        {
          "name": "stdout",
          "output_type": "stream",
          "text": [
            "¿Cuántos años tenés? 12\n"
          ]
        },
        {
          "output_type": "error",
          "ename": "TypeError",
          "evalue": "can only concatenate str (not \"int\") to str",
          "traceback": [
            "\u001b[0;31m---------------------------------------------------------------------------\u001b[0m",
            "\u001b[0;31mTypeError\u001b[0m                                 Traceback (most recent call last)",
            "\u001b[0;32m<ipython-input-11-ddb847eb6934>\u001b[0m in \u001b[0;36m<cell line: 0>\u001b[0;34m()\u001b[0m\n\u001b[1;32m      1\u001b[0m \u001b[0medad\u001b[0m \u001b[0;34m=\u001b[0m \u001b[0minput\u001b[0m\u001b[0;34m(\u001b[0m\u001b[0;34m\"¿Cuántos años tenés? \"\u001b[0m\u001b[0;34m)\u001b[0m\u001b[0;34m\u001b[0m\u001b[0;34m\u001b[0m\u001b[0m\n\u001b[0;32m----> 2\u001b[0;31m \u001b[0mprint\u001b[0m\u001b[0;34m(\u001b[0m\u001b[0;34m\"Sumando 5 años:\"\u001b[0m\u001b[0;34m,\u001b[0m \u001b[0medad\u001b[0m \u001b[0;34m+\u001b[0m \u001b[0;36m5\u001b[0m\u001b[0;34m)\u001b[0m\u001b[0;34m\u001b[0m\u001b[0;34m\u001b[0m\u001b[0m\n\u001b[0m",
            "\u001b[0;31mTypeError\u001b[0m: can only concatenate str (not \"int\") to str"
          ]
        }
      ]
    },
    {
      "cell_type": "markdown",
      "source": [
        "Esto da error porque Python no puede sumar un texto y un número."
      ],
      "metadata": {
        "id": "-Fk_66hbvfSy"
      }
    },
    {
      "cell_type": "code",
      "source": [
        "edad = input(\"¿Cuántos años tenés? \")\n",
        "edad = int(edad)  # convertimos texto a número entero\n",
        "print(\"En 5 años vas a tener:\", edad + 5)\n"
      ],
      "metadata": {
        "colab": {
          "base_uri": "https://localhost:8080/"
        },
        "id": "fsNtR8G2vkne",
        "outputId": "7eb3d0e4-9b91-4a48-dd82-2628fb99466b"
      },
      "execution_count": null,
      "outputs": [
        {
          "output_type": "stream",
          "name": "stdout",
          "text": [
            "¿Cuántos años tenés? 12\n",
            "En 5 años vas a tener: 17\n"
          ]
        }
      ]
    },
    {
      "cell_type": "markdown",
      "source": [
        "Entonces, podemos pasar de un tipo de dato a otro!"
      ],
      "metadata": {
        "id": "m-3KQDGHwJbq"
      }
    },
    {
      "cell_type": "markdown",
      "source": [
        "## 🔄 Conversión de tipos de datos en Python (Casting)\n",
        "\n",
        "A veces, cuando programamos, necesitamos cambiar el tipo de dato de una variable para que Python pueda entenderlo de la forma que queremos.\n",
        "\n",
        "Por ejemplo, si tenemos un número guardado como texto (string) y queremos hacer cuentas, tenemos que convertirlo a número.\n",
        "\n",
        "Esto se llama **conversión de tipos** o **casting**.\n",
        "\n",
        "---\n",
        "\n",
        "### Funciones comunes para convertir tipos:\n",
        "\n",
        "| Función | ¿Qué hace?                                   | Ejemplo                      |\n",
        "|---------|---------------------------------------------|-----------------------------|\n",
        "| `int()` | Convierte un número o texto a número entero | `int(\"5\")` → `5`            |\n",
        "| `float()` | Convierte un número o texto a número decimal | `float(\"3.14\")` → `3.14`     |\n",
        "| `str()` | Convierte cualquier dato a texto             | `str(10)` → `\"10\"`           |\n",
        "| `bool()` | Convierte a valor booleano (True/False)      | `bool(0)` → `False`<br>`bool(5)` → `True` |\n",
        "\n",
        "---\n",
        "\n",
        "### Ejemplos de conversión:\n",
        "\n"
      ],
      "metadata": {
        "id": "ejjSGR43woMr"
      }
    },
    {
      "cell_type": "code",
      "source": [
        "# De texto a entero\n",
        "edad_texto = \"20\"\n",
        "edad_numero = int(edad_texto)\n",
        "print(edad_numero + 5)  # 25\n",
        "\n",
        "# De texto a decimal\n",
        "precio_texto = \"19.99\"\n",
        "precio_numero = float(precio_texto)\n",
        "print(precio_numero * 2)  # 39.98\n",
        "\n",
        "# De número a texto\n",
        "numero = 100\n",
        "texto = str(numero)\n",
        "print(\"Número como texto:\", texto)\n",
        "\n",
        "# De número a booleano\n",
        "\n",
        "print(bool(0))    # False\n",
        "print(bool(7))    # True\n",
        "print(bool(\"\"))   # False\n",
        "print(bool(\"hola\")) # True\n"
      ],
      "metadata": {
        "colab": {
          "base_uri": "https://localhost:8080/"
        },
        "id": "kphlmsiRwsL8",
        "outputId": "cc0b9146-547a-46ed-e25e-8205993ae55e"
      },
      "execution_count": null,
      "outputs": [
        {
          "output_type": "stream",
          "name": "stdout",
          "text": [
            "25\n",
            "39.98\n",
            "Número como texto: 100\n",
            "False\n",
            "True\n",
            "False\n",
            "True\n"
          ]
        }
      ]
    },
    {
      "cell_type": "markdown",
      "source": [
        "🔢 ¿Cómo funciona int()?\n",
        "La función int() convierte un dato en un número entero (sin decimales).\n",
        "\n",
        "📌 ¿Qué se puede convertir a int()?\n",
        "Textos que representan números enteros (\"5\", \"42\")\n",
        "\n",
        "Números decimales (se les borra la parte decimal)\n",
        "\n",
        "Valores booleanos (True se convierte en 1, False en 0)\n",
        "\n",
        "⚠️ No se puede convertir un texto que no sea un número (como \"hola\") → esto da error.\n",
        "\n",
        "🧪 Veamos un ejemplo:\n",
        "\n"
      ],
      "metadata": {
        "id": "l3URrO5Hyhcg"
      }
    },
    {
      "cell_type": "code",
      "source": [
        "print(int(\"8\"))       # 8 (texto a número entero)\n",
        "print(int(3.99))     # 3 (pierde la parte decimal)\n",
        "print(int(True))     # 1\n",
        "print(int(False))    # 0"
      ],
      "metadata": {
        "id": "YDMi2kg0yqxm"
      },
      "execution_count": null,
      "outputs": []
    },
    {
      "cell_type": "markdown",
      "source": [
        "🔍 ¿Cómo funciona float()?\n",
        "La función float() convierte un dato en un número decimal (con coma flotante).\n",
        "\n",
        "📌 ¿Qué se puede convertir a float()?\n",
        "Textos que representan números decimales o enteros (\"3.14\", \"8\")\n",
        "\n",
        "Números enteros (se convierten a decimal)\n",
        "\n",
        "Valores booleanos (True se convierte en 1.0, False en 0.0)\n",
        "\n",
        "⚠️ No se puede convertir texto que no sea número decimal → da error.\n",
        "\n",
        "🧪 Veamos un ejemplo:"
      ],
      "metadata": {
        "id": "d5qc32U_yqSi"
      }
    },
    {
      "cell_type": "code",
      "source": [
        "print(float(\"8\"))      # 8.0 (texto a decimal)\n",
        "print(float(\"3.14\"))   # 3.14 (texto a decimal)\n",
        "print(float(7))        # 7.0 (entero a decimal)\n",
        "print(float(True))     # 1.0\n",
        "print(float(False))    # 0.0\n"
      ],
      "metadata": {
        "colab": {
          "base_uri": "https://localhost:8080/"
        },
        "id": "CARplk8Oy2r9",
        "outputId": "b373f012-e626-4e5a-a619-98ca06bf6f19"
      },
      "execution_count": null,
      "outputs": [
        {
          "output_type": "stream",
          "name": "stdout",
          "text": [
            "8.0\n",
            "3.14\n",
            "7.0\n",
            "1.0\n",
            "0.0\n"
          ]
        }
      ]
    },
    {
      "cell_type": "markdown",
      "source": [
        "✏️ ¿Cómo funciona str()?\n",
        "La función str() convierte cualquier cosa en texto.\n",
        "\n",
        "📌 ¿Qué se puede convertir a str()?\n",
        "Números enteros y decimales (5 → \"5\", 3.14 → \"3.14\")\n",
        "\n",
        "Valores booleanos (True → \"True\", False → \"False\")\n",
        "\n",
        "Incluso listas, diccionarios, etc.\n",
        "\n",
        "👉 Esto es útil para imprimir mensajes que combinan texto y números.\n",
        "\n",
        "🧪 Veamos un ejemplo:\n"
      ],
      "metadata": {
        "id": "h6LTk5hQy4qh"
      }
    },
    {
      "cell_type": "code",
      "source": [
        "print(str(100))        # \"100\" (entero a texto)\n",
        "print(str(3.14))       # \"3.14\" (decimal a texto)\n",
        "print(str(True))       # \"True\" (booleano a texto)\n"
      ],
      "metadata": {
        "colab": {
          "base_uri": "https://localhost:8080/"
        },
        "id": "gO9nd7ZXy9Sb",
        "outputId": "ee593f67-6c58-4164-b915-1ec22498a59a"
      },
      "execution_count": null,
      "outputs": [
        {
          "output_type": "stream",
          "name": "stdout",
          "text": [
            "100\n",
            "3.14\n",
            "True\n"
          ]
        }
      ]
    },
    {
      "cell_type": "markdown",
      "source": [
        "## ✅ ¿Cómo funciona `bool()`?\n",
        "\n",
        "La función `bool()` convierte cualquier cosa en un valor **booleano**, es decir: `True` (verdadero) o `False` (falso).\n",
        "\n",
        "### 📌 ¿Cuándo es `False`?\n",
        "En Python, estos valores se consideran **falsos**:\n",
        "\n",
        "- `0` (cero)\n",
        "- `0.0` (cero con decimales)\n",
        "- `\"\"` (cadena de texto vacía)\n",
        "- `[]` (lista vacía)\n",
        "- `None` (valor \"nada\")\n",
        "\n",
        "### 📌 Todo lo demás es `True`:\n",
        "\n",
        "- Cualquier número que NO sea 0 (por ejemplo, 7, -3, 2.5)\n",
        "- Cualquier texto que NO esté vacío (por ejemplo, `\"hola\"`, `\"0\"`)\n",
        "- Cualquier lista que tenga al menos un elemento\n",
        "\n",
        "---\n",
        "\n",
        "### 🧪 Veamos un ejemplo:\n",
        "\n",
        "```python\n",
        "print(bool(0))        # False porque es cero\n",
        "print(bool(7))        # True porque es un número distinto de cero\n",
        "print(bool(\"\"))       # False porque es un texto vacío\n",
        "print(bool(\"hola\"))   # True porque es un texto no vacío\n"
      ],
      "metadata": {
        "id": "HHHFup9kyRiO"
      }
    },
    {
      "cell_type": "markdown",
      "source": [
        "## ⚠️ Importante:\n",
        "- No siempre se puede convertir un dato de un tipo a otro.\n",
        "\n",
        "- Por ejemplo, tratar de convertir \"hola\" a número con int(\"hola\") da error.\n",
        "\n",
        "- Por eso, hay que estar seguras de que el valor tenga sentido para la conversión que queremos hacer."
      ],
      "metadata": {
        "id": "h74ZvZR9xGTz"
      }
    },
    {
      "cell_type": "markdown",
      "source": [
        "## Resumen\n",
        "  - Los datos que entran con input() son texto.\n",
        "\n",
        "  - Para hacer operaciones matemáticas, hay que convertirlos a números.\n",
        "\n",
        "  - Para convertir texto a número usamos int() o float().\n",
        "\n",
        "  - Si intentamos convertir texto que no es número, el programa da error."
      ],
      "metadata": {
        "id": "xyf_qgUjxqtJ"
      }
    },
    {
      "cell_type": "markdown",
      "source": [
        "# 🧠 Mini desafío extra\n",
        "\n",
        "Probá este código:"
      ],
      "metadata": {
        "id": "VceaSzIzx4GV"
      }
    },
    {
      "cell_type": "code",
      "source": [
        "numero = input(\"Escribí un número: \")\n",
        "print(\"Sumando 10:\", int(numero) + 10)\n"
      ],
      "metadata": {
        "colab": {
          "base_uri": "https://localhost:8080/"
        },
        "id": "Jp1GFNaqx3bl",
        "outputId": "a74f0471-05b8-4f92-b854-f1854949d62d"
      },
      "execution_count": null,
      "outputs": [
        {
          "output_type": "stream",
          "name": "stdout",
          "text": [
            "Escribí un número: 12\n",
            "Sumando 10: 22\n"
          ]
        }
      ]
    },
    {
      "cell_type": "markdown",
      "source": [
        "¿Qué pasa si escribís un número? ¿Y si escribís una palabra?\n",
        "\n",
        "¡Probalo y charlamos! 😊"
      ],
      "metadata": {
        "id": "MxuRS3CeyANc"
      }
    },
    {
      "cell_type": "markdown",
      "source": [
        "# 💡 Desafío: ¿Qué tipo es?\n",
        "Escribí un programa que:\n",
        "\n",
        "1. Pida al usuario que ingrese su nombre, edad, la altura (en metroos) y si está estudiando (sí/no).\n",
        "\n",
        "2. Guarde cada dato en una variable.\n",
        "\n",
        "3. Imprima el tipo de dato de cada variable usando type().\n",
        "\n",
        "4. Para la edad, convertí el dato a número (int).\n",
        "\n",
        "5. Para la altura, convertí el dato a un número decimal (float)\n",
        "\n",
        "DESAFIO EXTRA SI SABES CONDICIONALES (lo vamos a ver en el futuro):\n",
        "\n",
        "- Para el estado de estudio, convertí el texto a un valor de tipo bool (True si responde \"sí\", False si responde \"no\")."
      ],
      "metadata": {
        "id": "CcplMG4EzZCI"
      }
    },
    {
      "cell_type": "code",
      "source": [
        "# Podes escribir tu codigo en esta celda!\n",
        "\n",
        "\n",
        "\n"
      ],
      "metadata": {
        "id": "wt66ufVs0CAf"
      },
      "execution_count": null,
      "outputs": []
    },
    {
      "cell_type": "markdown",
      "source": [
        "# 🔢 Operaciones en Python\n",
        "\n",
        "## 1️⃣ Operaciones Matemáticas (con numeros! pueden ser tipo **int** o tipo **float**)\n",
        "- Suma (+)\n",
        "\n",
        "- Resta (-)\n",
        "\n",
        "- Multiplicación (*)\n",
        "\n",
        "- División (/)\n",
        "\n",
        "- División entera (//): da como resultado sólo la parte entera"
      ],
      "metadata": {
        "id": "FuRYOnR30ZWR"
      }
    },
    {
      "cell_type": "code",
      "source": [
        "print(\"5 + 3 = \", 5 + 3)    # 8\n",
        "print(\"10 - 2 = \", 10 - 2)   # 8\n",
        "print(\"4 * 2 = \", 4 * 2)    # 8\n",
        "print(\"16 / 2 = \", 16 / 2)   # 8.0\n",
        "print(\"16 / 2 = \", 16 // 3)  # 5 (división entera)"
      ],
      "metadata": {
        "colab": {
          "base_uri": "https://localhost:8080/"
        },
        "id": "IXddpd_l0tMy",
        "outputId": "1d00216d-2979-4386-83bc-afb9ae24f51b"
      },
      "execution_count": null,
      "outputs": [
        {
          "output_type": "stream",
          "name": "stdout",
          "text": [
            "5 + 3 =  8\n",
            "10 - 2 =  8\n",
            "4 * 2 =  8\n",
            "16 / 2 =  8.0\n",
            "16 / 2 =  5\n"
          ]
        }
      ]
    },
    {
      "cell_type": "markdown",
      "source": [
        "## 2️⃣ Operaciones con texto (strings)\n",
        "Concatenación (+): unir textos\n",
        "\n",
        "Repetición (*): repetir un texto varias veces\n",
        "\n",
        "🧪 Ejemplo:"
      ],
      "metadata": {
        "id": "wkN0Xzaq1L7D"
      }
    },
    {
      "cell_type": "code",
      "source": [
        "print(\"Hola \" + \"Python\")  # Hola Python\n",
        "print(\"h\" + \"e\" + \"l\" + \"l\" + \"o\")\n",
        "print(\"🐍\" * 5)            # 🐍🐍🐍🐍🐍\n"
      ],
      "metadata": {
        "colab": {
          "base_uri": "https://localhost:8080/"
        },
        "id": "15HHemXB1Mpp",
        "outputId": "6e7a4cad-09ed-412c-8e8f-cfe6f4838114"
      },
      "execution_count": null,
      "outputs": [
        {
          "output_type": "stream",
          "name": "stdout",
          "text": [
            "Hola Python\n",
            "hello\n",
            "🐍🐍🐍🐍🐍\n"
          ]
        }
      ]
    },
    {
      "cell_type": "markdown",
      "source": [
        "## 3️⃣ Operaciones con booleanos (lógica)\n",
        "- and: verdadero si las dos condiciones son verdaderas\n",
        "\n",
        "- or: verdadero si al menos una es verdadera\n",
        "\n",
        "- not: invierte el valor (True → False y viceversa)"
      ],
      "metadata": {
        "id": "rjwNJYXl1drP"
      }
    },
    {
      "cell_type": "code",
      "source": [
        "print(\"True and False = \", True and False)  # False\n",
        "print(\"True or False = \", True or False)   # True\n",
        "print(\"not True = \", not True)        # False\n"
      ],
      "metadata": {
        "colab": {
          "base_uri": "https://localhost:8080/"
        },
        "id": "i0kZDzx71mga",
        "outputId": "11a1641b-6d25-41dd-8b81-76b9d98c124c"
      },
      "execution_count": null,
      "outputs": [
        {
          "output_type": "stream",
          "name": "stdout",
          "text": [
            "True and False =  False\n",
            "True or False =  True\n",
            "not True =  False\n"
          ]
        }
      ]
    },
    {
      "cell_type": "markdown",
      "source": [
        "#🎯 Desafío:\n",
        "✅ Escribí un programa que:\n",
        "\n",
        "1. Pida tu edad con input()\n",
        "\n",
        "2. La convierta a número entero\n",
        "\n",
        "3. Calcule cuántos días viviste (aprox.) usando la operación de multiplicación (edad * 365)\n",
        "\n",
        "4. Muestre el resultado con un mensaje usando print()"
      ],
      "metadata": {
        "id": "7VNetoaR158J"
      }
    },
    {
      "cell_type": "code",
      "source": [
        "# Podes usar esta celda para escribir tu codigo!\n",
        "\n",
        "\n",
        "\n",
        "\n"
      ],
      "metadata": {
        "id": "kwT-V3J02Fh-"
      },
      "execution_count": null,
      "outputs": []
    },
    {
      "cell_type": "markdown",
      "source": [
        "## 🔍 Comparadores y Condicionales\n",
        "\n",
        "### 🧐 ¿Qué son los **comparadores**?\n",
        "\n",
        "Los comparadores nos permiten **comparar valores** y obtener como resultado un valor booleano: `True` (verdadero) o `False` (falso).\n",
        "\n",
        "| Comparador | Significado             | Ejemplo | Resultado |\n",
        "|------------|-------------------------|---------|-----------|\n",
        "| `==`       | Igual a                  | `5 == 5` | `True` |\n",
        "| `!=`       | Distinto de              | `5 != 3` | `True` |\n",
        "| `>`        | Mayor que                | `7 > 3` | `True` |\n",
        "| `<`        | Menor que                | `2 < 5` | `True` |\n",
        "| `>=`       | Mayor o igual que        | `5 >= 5` | `True` |\n",
        "| `<=`       | Menor o igual que        | `3 <= 4` | `True` |\n",
        "\n",
        "---\n",
        "\n",
        "### 🧪 Ejemplos:\n",
        "\n",
        "`\n"
      ],
      "metadata": {
        "id": "wg1Crk3W2Z6k"
      }
    },
    {
      "cell_type": "code",
      "source": [
        "print(10 == 10)   # True\n",
        "print(7 != 5)     # True\n",
        "print(8 > 12)     # False\n",
        "print(4 < 9)      # True\n",
        "print(5 >= 5)     # True\n",
        "print(3 <= 2)     # False"
      ],
      "metadata": {
        "colab": {
          "base_uri": "https://localhost:8080/"
        },
        "id": "xJ6rFCB22jtj",
        "outputId": "5efa779f-3883-4937-e719-43d89c492872"
      },
      "execution_count": null,
      "outputs": [
        {
          "output_type": "stream",
          "name": "stdout",
          "text": [
            "True\n",
            "True\n",
            "False\n",
            "True\n",
            "True\n",
            "False\n"
          ]
        }
      ]
    },
    {
      "cell_type": "markdown",
      "source": [
        "## 🔀 Condicionales: Tomando decisiones con `if`\n",
        "\n",
        "En Python, las condicionales nos permiten ejecutar un bloque de código **sólo si una condición se cumple**.\n",
        "\n",
        "```python\n",
        "if condición:\n",
        "    # Código que se ejecuta si la condición es True\n"
      ],
      "metadata": {
        "id": "4mFgdgrw2ltz"
      }
    },
    {
      "cell_type": "markdown",
      "source": [
        "Podemos agregar mas condicionales\n",
        "\n",
        "```python\n",
        "if condición:\n",
        "    # Código que se ejecuta si la condición es True\n",
        "elif otra_condicion:\n",
        "    # Código si la primera no se cumple pero esta sí\n",
        "else:\n",
        "    # Código si ninguna condición se cumple\n"
      ],
      "metadata": {
        "id": "FO2RUjL23cuK"
      }
    },
    {
      "cell_type": "markdown",
      "source": [
        "## 🧪 Ejemplo simple:"
      ],
      "metadata": {
        "id": "KIFk7Ccs3tHM"
      }
    },
    {
      "cell_type": "code",
      "source": [
        "edad = int(input(\"¿Cuántos años tenés? \"))\n",
        "\n",
        "if edad >= 18:\n",
        "    print(\"Sos mayor de edad.\")\n",
        "else:\n",
        "    print(\"Sos menor de edad.\")"
      ],
      "metadata": {
        "colab": {
          "base_uri": "https://localhost:8080/"
        },
        "id": "X2Mn7YN82lGQ",
        "outputId": "03e0115d-019f-43e2-e052-9ec56f4c5273"
      },
      "execution_count": null,
      "outputs": [
        {
          "output_type": "stream",
          "name": "stdout",
          "text": [
            "¿Cuántos años tenés? 19\n",
            "Sos mayor de edad.\n"
          ]
        }
      ]
    },
    {
      "cell_type": "markdown",
      "source": [
        "## 🧪 Otro ejemplo:"
      ],
      "metadata": {
        "id": "edDOaiRY3yD7"
      }
    },
    {
      "cell_type": "code",
      "source": [
        "nota = int(input(\"¿Qué nota sacaste? \"))\n",
        "\n",
        "if nota >= 9:\n",
        "    print(\"¡Excelente!\")\n",
        "elif nota >= 7:\n",
        "    print(\"Aprobaste.\")\n",
        "else:\n",
        "    print(\"No aprobaste. ¡A seguir estudiando!\")\n"
      ],
      "metadata": {
        "colab": {
          "base_uri": "https://localhost:8080/"
        },
        "id": "LX_qVdxf340C",
        "outputId": "cdeb6b30-4bbd-4880-fcf7-ae30ae970b79"
      },
      "execution_count": null,
      "outputs": [
        {
          "output_type": "stream",
          "name": "stdout",
          "text": [
            "¿Qué nota sacaste? 10\n",
            "¡Excelente!\n"
          ]
        }
      ]
    },
    {
      "cell_type": "markdown",
      "source": [
        "### 🚀 Desafío 1: Tu presentación\n",
        "\n",
        "✅ Escribí un programa que:\n",
        "\n",
        "1. Pida al usuario su **nombre** y **edad**.\n",
        "2. Imprima un mensaje como: `\"Hola [nombre], tenés [edad] años.\"`\n",
        "3. Imprima si el usuario es mayor o menor de edad.\n",
        "\n",
        "---\n",
        "\n",
        "### 🚀 Desafío 2: ¡Cuentas matemáticas!\n",
        "\n",
        "✅ Escribí un programa que:\n",
        "\n",
        "1. Pida al usuario dos números.\n",
        "2. Muestre por pantalla la **suma**, la **resta**, la **multiplicación** y la **división** de esos dos números.\n",
        "3. Imprima el número que es mayor o si son iguales. `\"El mayor número ingresado es [numero]\"` o `\"Los numeros ingresados son iguales\"`\n",
        "---\n",
        "\n",
        "### 🚀 Desafío 3: Calculadora de doble o triple\n",
        "\n",
        "✅ Escribí un programa que:\n",
        "\n",
        "1. Pida al usuario un número.\n",
        "2. Si el número es mayor a 100, imprima el **doble** del número.\n",
        "3. Si el número es menor o igual a 100, imprima el **triple** del número.\n",
        "\n",
        "---\n",
        "\n",
        "### 🚀 Desafío 4: Adivinador de contraseña secreta 🔐\n",
        "\n",
        "✅ Escribí un programa que:\n",
        "\n",
        "1. Guarde una contraseña secreta en una variable (por ejemplo: `\"python123\"`).\n",
        "2. Pida al usuario que escriba la contraseña.\n",
        "3. Si la contraseña es correcta, imprima `\"¡Acceso permitido!\"`, sino `\"Contraseña incorrecta.\"`"
      ],
      "metadata": {
        "id": "wzBDAk7j4SWI"
      }
    },
    {
      "cell_type": "code",
      "source": [
        "# Podes usar esta celda para programar los desafios!!!\n",
        "\n",
        "\n",
        "\n",
        "\n",
        "\n",
        "\n",
        "\n",
        "\n",
        "\n",
        "\n",
        "\n",
        "\n",
        "\n",
        "\n",
        "\n",
        "\n",
        "\n",
        "\n",
        "\n",
        "\n",
        "\n",
        "\n",
        "\n",
        "\n",
        "\n",
        "\n",
        "\n"
      ],
      "metadata": {
        "id": "HNkNfjoF5opL"
      },
      "execution_count": null,
      "outputs": []
    }
  ]
}